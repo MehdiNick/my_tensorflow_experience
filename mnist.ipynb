{
  "nbformat": 4,
  "nbformat_minor": 0,
  "metadata": {
    "colab": {
      "provenance": [],
      "authorship_tag": "ABX9TyP0QOKPeEA8WkCk4c0BkP50",
      "include_colab_link": true
    },
    "kernelspec": {
      "name": "python3",
      "display_name": "Python 3"
    },
    "language_info": {
      "name": "python"
    }
  },
  "cells": [
    {
      "cell_type": "markdown",
      "metadata": {
        "id": "view-in-github",
        "colab_type": "text"
      },
      "source": [
        "<a href=\"https://colab.research.google.com/github/MehdiNick/my_tensorflow_experience/blob/main/mnist.ipynb\" target=\"_parent\"><img src=\"https://colab.research.google.com/assets/colab-badge.svg\" alt=\"Open In Colab\"/></a>"
      ]
    },
    {
      "cell_type": "code",
      "execution_count": null,
      "metadata": {
        "colab": {
          "base_uri": "https://localhost:8080/"
        },
        "id": "otewBMzkHiRg",
        "outputId": "d0bb26f3-ceb4-4a36-96cd-8631410e1865"
      },
      "outputs": [
        {
          "output_type": "stream",
          "name": "stdout",
          "text": [
            "Downloading data from https://storage.googleapis.com/tensorflow/tf-keras-datasets/mnist.npz\n",
            "11493376/11490434 [==============================] - 0s 0us/step\n",
            "11501568/11490434 [==============================] - 0s 0us/step\n",
            "Epoch 1/5\n",
            "1715/1715 [==============================] - 14s 8ms/step - loss: 0.2021 - accuracy: 0.9399\n",
            "Epoch 2/5\n",
            "1715/1715 [==============================] - 12s 7ms/step - loss: 0.0900 - accuracy: 0.9740\n",
            "Epoch 3/5\n",
            "1715/1715 [==============================] - 12s 7ms/step - loss: 0.0639 - accuracy: 0.9811\n",
            "Epoch 4/5\n",
            "1715/1715 [==============================] - 12s 7ms/step - loss: 0.0510 - accuracy: 0.9860\n",
            "Epoch 5/5\n",
            "1715/1715 [==============================] - 12s 7ms/step - loss: 0.0408 - accuracy: 0.9889\n",
            "5\n",
            "5\n",
            "313/313 [==============================] - 1s 3ms/step - loss: 0.0757 - accuracy: 0.9807\n",
            "The loss:0.07572516053915024 \n",
            " The accuracy: 0.9807000160217285\n"
          ]
        }
      ],
      "source": [
        "from tensorflow import keras\n",
        "from tensorflow.keras import layers\n",
        "from tensorflow.keras.datasets import mnist\n",
        "(train_images, train_labels), (test_images, test_labels) = mnist.load_data()\n",
        "\n",
        "\n",
        "model = keras.Sequential([\n",
        "    layers.Dense(512, activation=\"relu\"),\n",
        "    layers.Dense(10, activation=\"softmax\")\n",
        "])\n",
        "model.compile(optimizer=\"rmsprop\",\n",
        "              loss=\"sparse_categorical_crossentropy\",\n",
        "              metrics=[\"accuracy\"])\n",
        "\n",
        "train_images = train_images.reshape((60000, 28*28))\n",
        "train_images = train_images.astype(\"float32\")/255\n",
        "\n",
        "test_images = test_images.reshape((10000, 28*28))\n",
        "test_images = test_images.astype(\"float32\")/255\n",
        "model.fit(train_images, train_labels, epochs=5, batch_size=35)\n",
        "\n",
        "test_digits = test_images[15:20];\n",
        "predictions = model.predict(test_digits) #returns an array of possibilities of each class\n",
        "print(predictions[0].argmax())\n",
        "print(test_labels[15]);\n",
        "\n",
        "t_loss,t_accu = model.evaluate(test_images,test_labels)\n",
        "\n",
        "print(f\"The loss:{t_loss} \\nThe accuracy: {t_accu}\")\n"
      ]
    }
  ]
}