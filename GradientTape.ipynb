{
  "nbformat": 4,
  "nbformat_minor": 0,
  "metadata": {
    "colab": {
      "name": "GradientTape.ipynb",
      "provenance": [],
      "collapsed_sections": [],
      "authorship_tag": "ABX9TyPeTgqnI+NKT6Q+sfZB1CG4",
      "include_colab_link": true
    },
    "kernelspec": {
      "name": "python3",
      "display_name": "Python 3"
    },
    "language_info": {
      "name": "python"
    }
  },
  "cells": [
    {
      "cell_type": "markdown",
      "metadata": {
        "id": "view-in-github",
        "colab_type": "text"
      },
      "source": [
        "<a href=\"https://colab.research.google.com/github/MehdiNick/my_tensorflow_experience/blob/main/GradientTape.ipynb\" target=\"_parent\"><img src=\"https://colab.research.google.com/assets/colab-badge.svg\" alt=\"Open In Colab\"/></a>"
      ]
    },
    {
      "cell_type": "code",
      "execution_count": null,
      "metadata": {
        "id": "BQ3KT-ttNDto"
      },
      "outputs": [],
      "source": [
        "import tensorflow as tf\n",
        "input_var = tf.constant(3.)\n",
        "with tf.GradientTape() as tape:\n",
        "  result = tf.square(input_var)\n",
        "  gradient = tape.gradient(result,input_var)\n",
        "\n",
        "print(gradient)\n"
      ]
    },
    {
      "cell_type": "markdown",
      "source": [
        "well, first let's read the code line by line and explain it. \n",
        "\n",
        "import tensorflow as tf  = kinda obvious don't you think?\n",
        "\n",
        "input_var = tf.constant(3.) = creates a constant tensor\n",
        "\n",
        "with tf.GradientTape() as tape = opens a scope of gradientTape, the \"With\" keyword takes care of releasing the resources once we're done with gradientTape (find out more)\n",
        "\n",
        "result = tf.square(input_var)  = we are just creating our output function which here is x^2 \n",
        "\n",
        "gradient = tape.gradient(result,input_var) = take the derivative of result with respect to input_var \n",
        "\n",
        "\n"
      ],
      "metadata": {
        "id": "qZQ90kyANS7N"
      }
    },
    {
      "cell_type": "markdown",
      "source": [
        "but hey. why does it output none then? well, when our variable is constant, we need to tell tensorflow \"Buddy, this is actually the variable you need to take derivative with respect to. so WATCH it. watch how it changes and then tell me the derivative. alright? love you.\"\n",
        "\n",
        "and we do that by calling the watch() method. "
      ],
      "metadata": {
        "id": "9WTNy2FbOenN"
      }
    },
    {
      "cell_type": "code",
      "execution_count": null,
      "metadata": {
        "id": "1Fc5di1WP8Ob"
      },
      "outputs": [],
      "source": [
        "import tensorflow as tf\n",
        "input_var = tf.constant(3.)\n",
        "with tf.GradientTape() as tape:\n",
        "  tape.watch(input_var)\n",
        "  result = tf.square(input_var)\n",
        "gradient = tape.gradient(result,input_var)\n",
        "\n",
        "print(gradient)\n"
      ]
    },
    {
      "cell_type": "markdown",
      "source": [
        " we can also define our input_var as a normal tensor variable which  will be by default watched. "
      ],
      "metadata": {
        "id": "5XlRDFoOQDet"
      }
    },
    {
      "cell_type": "code",
      "source": [
        "import tensorflow as tf\n",
        "input_var = tf.Variable(initial_value = 3.)\n",
        "with tf.GradientTape() as tape:\n",
        "  result = tf.square(input_var)\n",
        "gradient = tape.gradient(result,input_var)\n",
        "\n",
        "print(gradient)"
      ],
      "metadata": {
        "id": "YIqdq88qQWa7"
      },
      "execution_count": null,
      "outputs": []
    }
  ]
}